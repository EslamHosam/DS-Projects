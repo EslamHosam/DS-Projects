{
 "cells": [
  {
   "cell_type": "markdown",
   "metadata": {},
   "source": [
    "# intro to the project "
   ]
  },
  {
   "cell_type": "markdown",
   "metadata": {},
   "source": [
    "In this project, we'll work with a data set of submissions to popular technology site Hacker News.\n",
    "\n",
    "You can find the data set [here](https://www.kaggle.com/hacker-news/hacker-news-posts), but note that it has been reduced from almost 300,000 rows to approximately 20,000 rows by removing all submissions that did not receive any comments, and then randomly sampling from the remaining submissions. Below are descriptions of the columns:"
   ]
  },
  {
   "cell_type": "markdown",
   "metadata": {},
   "source": [
    "- title: title of the post (self explanatory)\n",
    "\n",
    "- url: the url of the item being linked to\n",
    "\n",
    "- num_points: the number of upvotes the post received\n",
    "\n",
    "- num_comments: the number of comments the post received\n",
    "\n",
    "- author: the name of the account that made the post\n",
    "\n",
    "- created_at: the date and time the post was made (the time zone is Eastern Time in the US)"
   ]
  },
  {
   "cell_type": "code",
   "execution_count": null,
   "metadata": {},
   "outputs": [],
   "source": []
  },
  {
   "cell_type": "markdown",
   "metadata": {},
   "source": [
    "## reading data and removing headers"
   ]
  },
  {
   "cell_type": "code",
   "execution_count": 1,
   "metadata": {},
   "outputs": [
    {
     "name": "stdout",
     "output_type": "stream",
     "text": [
      "['id', 'title', 'url', 'num_points', 'num_comments', 'author', 'created_at']\n"
     ]
    },
    {
     "data": {
      "text/plain": [
       "293119"
      ]
     },
     "execution_count": 1,
     "metadata": {},
     "output_type": "execute_result"
    }
   ],
   "source": [
    "# read your data first of all\n",
    "\n",
    "import csv\n",
    "read_file = csv.reader(open(\"HN_posts.csv\" , encoding = \"utf-8\"))\n",
    "hn = list(read_file)\n",
    "# removing the header\n",
    "header = hn[0]\n",
    "print(header)\n",
    "\n",
    "# print first 3 rows of your data\n",
    "hn = hn[1:]\n",
    "hn[:3]\n",
    "len(hn)"
   ]
  },
  {
   "cell_type": "markdown",
   "metadata": {},
   "source": [
    "we are interseted in the Ask HN posts and Show HN\n",
    "\n",
    "so we will focus on them\n",
    "we will make 3 lists of lists\n",
    "\n",
    "\n",
    "1-ask_posts\n",
    "\n",
    "2-show_posts\n",
    "\n",
    "3-others"
   ]
  },
  {
   "cell_type": "code",
   "execution_count": 2,
   "metadata": {},
   "outputs": [
    {
     "name": "stdout",
     "output_type": "stream",
     "text": [
      "True\n",
      "False\n"
     ]
    },
    {
     "data": {
      "text/plain": [
       "True"
      ]
     },
     "execution_count": 2,
     "metadata": {},
     "output_type": "execute_result"
    }
   ],
   "source": [
    "# new tip with str.startswith method\n",
    "\n",
    "s = \"fatma\"\n",
    "print(s.startswith(\"fa\"))\n",
    "\n",
    "print(s.startswith(\"Fa\"))\n",
    "\n",
    "#use the lower() method returns small case of a string\n",
    "\"Eslam\".lower().startswith(\"e\")\n"
   ]
  },
  {
   "cell_type": "code",
   "execution_count": 3,
   "metadata": {},
   "outputs": [],
   "source": [
    "# make 3 lempty lists\n",
    "ask_posts = []\n",
    "show_posts = []\n",
    "other_posts = []\n",
    "\n",
    "#loop in hn and append each list with its elments\n",
    "for row in hn:\n",
    "    title = row[1]\n",
    "    if title.lower().startswith(\"ask hn\"):\n",
    "        ask_posts.append(row)\n",
    "    elif title.lower().startswith(\"show hn\"):\n",
    "        show_posts.append(row)\n",
    "    else:\n",
    "        other_posts.append(row)\n"
   ]
  },
  {
   "cell_type": "code",
   "execution_count": 4,
   "metadata": {},
   "outputs": [
    {
     "name": "stdout",
     "output_type": "stream",
     "text": [
      "[9139, 10158, 273822]\n"
     ]
    }
   ],
   "source": [
    "print([len(ask_posts) , len(show_posts) , len(other_posts)])"
   ]
  },
  {
   "cell_type": "markdown",
   "metadata": {},
   "source": [
    "Calculating the Average Number of Comments for Ask HN and Show HN Posts"
   ]
  },
  {
   "cell_type": "code",
   "execution_count": 5,
   "metadata": {},
   "outputs": [
    {
     "name": "stdout",
     "output_type": "stream",
     "text": [
      "10.393478498741656\n"
     ]
    }
   ],
   "source": [
    "# calculate ask_posts avg comments\n",
    "total_ask_comments = 0\n",
    "for row in ask_posts:\n",
    "    total_ask_comments += int(row[4])\n",
    "    \n",
    "ask_avg = total_ask_comments / len(ask_posts)\n",
    "print(ask_avg)"
   ]
  },
  {
   "cell_type": "code",
   "execution_count": 6,
   "metadata": {},
   "outputs": [
    {
     "name": "stdout",
     "output_type": "stream",
     "text": [
      "4.886099625910612\n"
     ]
    }
   ],
   "source": [
    "# calculate the avg comments for show posts\n",
    "total_show_comments = 0\n",
    "for row in show_posts:\n",
    "    total_show_comments += int(row[4])\n",
    "    \n",
    "show_avg = total_show_comments / len(show_posts)\n",
    "print(show_avg)"
   ]
  },
  {
   "cell_type": "markdown",
   "metadata": {},
   "source": []
  },
  {
   "cell_type": "markdown",
   "metadata": {},
   "source": [
    "from the  2 above cells ask_posts recieves more comments than show_posts \n",
    "\n",
    "we'll focus our remaining analysis just on these posts for ask_posts list"
   ]
  },
  {
   "cell_type": "markdown",
   "metadata": {},
   "source": [
    "##  Finding the Amount of Ask Posts and Comments by Hour Created"
   ]
  },
  {
   "cell_type": "code",
   "execution_count": 7,
   "metadata": {},
   "outputs": [
    {
     "name": "stdout",
     "output_type": "stream",
     "text": [
      "9139\n"
     ]
    }
   ],
   "source": [
    "# create a list of [[time , comments]]\n",
    "results_list = []\n",
    "\n",
    "for row in ask_posts:\n",
    "    created_at = row[6]\n",
    "    comment = int(row[4])\n",
    "    results_list.append([created_at , comment])\n",
    "\n",
    "print(len(results_list)) # the same length as ask_posts \n",
    "#sresults_list"
   ]
  },
  {
   "cell_type": "markdown",
   "metadata": {},
   "source": [
    "#### Calculate the amount of ask posts created in each hour of the day, along with the number of comments received.\n"
   ]
  },
  {
   "cell_type": "code",
   "execution_count": 8,
   "metadata": {},
   "outputs": [],
   "source": [
    "import datetime as dt       # to handle the date\n",
    "\n",
    "counts_by_hour = {}\n",
    "comments_by_hour = {}\n",
    "\n",
    "for row in results_list:\n",
    "    hour_dt = dt.datetime.strptime(row[0] , \"%m/%d/%Y %H:%M\")\n",
    "    hour = hour_dt.hour\n",
    "    if hour not in counts_by_hour:\n",
    "        counts_by_hour[hour] = 1\n",
    "        comments_by_hour[hour] = row[1]\n",
    "    else:\n",
    "        counts_by_hour[hour] += 1\n",
    "        comments_by_hour[hour] += row[1]\n",
    "                "
   ]
  },
  {
   "cell_type": "code",
   "execution_count": 9,
   "metadata": {},
   "outputs": [
    {
     "data": {
      "text/plain": [
       "{2: 269,\n",
       " 1: 282,\n",
       " 22: 383,\n",
       " 21: 518,\n",
       " 19: 552,\n",
       " 17: 587,\n",
       " 15: 646,\n",
       " 14: 513,\n",
       " 13: 444,\n",
       " 11: 312,\n",
       " 10: 282,\n",
       " 9: 222,\n",
       " 7: 226,\n",
       " 3: 271,\n",
       " 23: 343,\n",
       " 20: 510,\n",
       " 16: 579,\n",
       " 8: 257,\n",
       " 0: 301,\n",
       " 18: 614,\n",
       " 12: 342,\n",
       " 4: 243,\n",
       " 6: 234,\n",
       " 5: 209}"
      ]
     },
     "execution_count": 9,
     "metadata": {},
     "output_type": "execute_result"
    }
   ],
   "source": [
    "counts_by_hour "
   ]
  },
  {
   "cell_type": "code",
   "execution_count": 10,
   "metadata": {},
   "outputs": [
    {
     "data": {
      "text/plain": [
       "{2: 2996,\n",
       " 1: 2089,\n",
       " 22: 3372,\n",
       " 21: 4500,\n",
       " 19: 3954,\n",
       " 17: 5547,\n",
       " 15: 18525,\n",
       " 14: 4972,\n",
       " 13: 7245,\n",
       " 11: 2797,\n",
       " 10: 3013,\n",
       " 9: 1477,\n",
       " 7: 1585,\n",
       " 3: 2154,\n",
       " 23: 2297,\n",
       " 20: 4462,\n",
       " 16: 4466,\n",
       " 8: 2362,\n",
       " 0: 2277,\n",
       " 18: 4877,\n",
       " 12: 4234,\n",
       " 4: 2360,\n",
       " 6: 1587,\n",
       " 5: 1838}"
      ]
     },
     "execution_count": 10,
     "metadata": {},
     "output_type": "execute_result"
    }
   ],
   "source": [
    "comments_by_hour"
   ]
  },
  {
   "cell_type": "code",
   "execution_count": 11,
   "metadata": {},
   "outputs": [],
   "source": [
    "# c_hour = {}\n",
    "# p_hour = {}\n",
    "\n",
    "# for row in results_list:\n",
    "#     date = dt.datetime.strptime(row[0] , \"%m/%d/%Y %H:%M\")\n",
    "#     hour = date.hour\n",
    "#     if hour not in p_hour:\n",
    "#         p_hour[hour] = 1\n",
    "#         c_hour[hour] = 1\n",
    "#     else:\n",
    "#         p_hour[hour] += 1 \n",
    "#         c_hour[hour] += 1\n",
    "        \n"
   ]
  },
  {
   "cell_type": "markdown",
   "metadata": {},
   "source": [
    "calculate the average comments for posts created during each hour at the day"
   ]
  },
  {
   "cell_type": "code",
   "execution_count": 12,
   "metadata": {},
   "outputs": [
    {
     "data": {
      "text/plain": [
       "[[2, 11.137546468401487],\n",
       " [1, 7.407801418439717],\n",
       " [22, 8.804177545691905],\n",
       " [21, 8.687258687258687],\n",
       " [19, 7.163043478260869],\n",
       " [17, 9.449744463373083],\n",
       " [15, 28.676470588235293],\n",
       " [14, 9.692007797270955],\n",
       " [13, 16.31756756756757],\n",
       " [11, 8.96474358974359],\n",
       " [10, 10.684397163120567],\n",
       " [9, 6.653153153153153],\n",
       " [7, 7.013274336283186],\n",
       " [3, 7.948339483394834],\n",
       " [23, 6.696793002915452],\n",
       " [20, 8.749019607843136],\n",
       " [16, 7.713298791018998],\n",
       " [8, 9.190661478599221],\n",
       " [0, 7.5647840531561465],\n",
       " [18, 7.94299674267101],\n",
       " [12, 12.380116959064328],\n",
       " [4, 9.7119341563786],\n",
       " [6, 6.782051282051282],\n",
       " [5, 8.794258373205741]]"
      ]
     },
     "execution_count": 12,
     "metadata": {},
     "output_type": "execute_result"
    }
   ],
   "source": [
    "# avg number of comments for posts per hour\n",
    "avg_by_hour = []\n",
    "\n",
    "for hr in counts_by_hour:\n",
    "    avg_by_hour.append([hr , comments_by_hour[hr] / counts_by_hour[hr]])\n",
    "    \n",
    "avg_by_hour"
   ]
  },
  {
   "cell_type": "markdown",
   "metadata": {},
   "source": [
    "### Sorting and Printing Values from a List of Lists"
   ]
  },
  {
   "cell_type": "code",
   "execution_count": 13,
   "metadata": {},
   "outputs": [
    {
     "name": "stdout",
     "output_type": "stream",
     "text": [
      "[[11.137546468401487, 2], [7.407801418439717, 1], [8.804177545691905, 22], [8.687258687258687, 21], [7.163043478260869, 19], [9.449744463373083, 17], [28.676470588235293, 15], [9.692007797270955, 14], [16.31756756756757, 13], [8.96474358974359, 11], [10.684397163120567, 10], [6.653153153153153, 9], [7.013274336283186, 7], [7.948339483394834, 3], [6.696793002915452, 23], [8.749019607843136, 20], [7.713298791018998, 16], [9.190661478599221, 8], [7.5647840531561465, 0], [7.94299674267101, 18], [12.380116959064328, 12], [9.7119341563786, 4], [6.782051282051282, 6], [8.794258373205741, 5]]\n"
     ]
    }
   ],
   "source": [
    "# create list equal to avg_by_hour with swaped column\n",
    "swaped_list = []\n",
    "for row in avg_by_hour:\n",
    "    swaped_list.append([row[1] , row[0]])\n",
    "    \n",
    "print(swaped_list)"
   ]
  },
  {
   "cell_type": "code",
   "execution_count": 14,
   "metadata": {},
   "outputs": [
    {
     "data": {
      "text/plain": [
       "[[28.676470588235293, 15],\n",
       " [16.31756756756757, 13],\n",
       " [12.380116959064328, 12],\n",
       " [11.137546468401487, 2],\n",
       " [10.684397163120567, 10],\n",
       " [9.7119341563786, 4],\n",
       " [9.692007797270955, 14],\n",
       " [9.449744463373083, 17],\n",
       " [9.190661478599221, 8],\n",
       " [8.96474358974359, 11],\n",
       " [8.804177545691905, 22],\n",
       " [8.794258373205741, 5],\n",
       " [8.749019607843136, 20],\n",
       " [8.687258687258687, 21],\n",
       " [7.948339483394834, 3],\n",
       " [7.94299674267101, 18],\n",
       " [7.713298791018998, 16],\n",
       " [7.5647840531561465, 0],\n",
       " [7.407801418439717, 1],\n",
       " [7.163043478260869, 19],\n",
       " [7.013274336283186, 7],\n",
       " [6.782051282051282, 6],\n",
       " [6.696793002915452, 23],\n",
       " [6.653153153153153, 9]]"
      ]
     },
     "execution_count": 14,
     "metadata": {},
     "output_type": "execute_result"
    }
   ],
   "source": [
    "# sort the swaped_list\n",
    "sorted_swap = sorted(swaped_list , reverse=True)\n",
    "sorted_swap"
   ]
  },
  {
   "cell_type": "code",
   "execution_count": 15,
   "metadata": {},
   "outputs": [
    {
     "name": "stdout",
     "output_type": "stream",
     "text": [
      "Top 5 Hours for Ask Posts Comments\n",
      "15: 28.68 average comments per post\n",
      "13: 16.32 average comments per post\n",
      "12: 12.38 average comments per post\n",
      "2: 11.14 average comments per post\n",
      "10: 10.68 average comments per post\n",
      "4: 9.71 average comments per post\n"
     ]
    }
   ],
   "source": [
    "print(\"Top 5 Hours for Ask Posts Comments\")\n",
    "\n",
    "# here iam not using the datetime.strptime method because i have converted the hours to int type at the begining\n",
    "for row in sorted_swap[:6]:\n",
    "    print(\"{}: {:.2f} average comments per post\".format(row[1] , row[0]))"
   ]
  },
  {
   "cell_type": "markdown",
   "metadata": {},
   "source": [
    "\n",
    "from results above the the higher chance to get more comments is at 15:00  and the timezone is \n",
    "(Eastern Time in the US) so we can say at 3 pm est\n"
   ]
  },
  {
   "cell_type": "code",
   "execution_count": 16,
   "metadata": {},
   "outputs": [
    {
     "name": "stdout",
     "output_type": "stream",
     "text": [
      "lowest 5 hours for ask posts comments\n",
      "19:00 :  7.16 average comments per post\n",
      "07:00 :  7.01 average comments per post\n",
      "06:00 :  6.78 average comments per post\n",
      "23:00 :  6.70 average comments per post\n",
      "09:00 :  6.65 average comments per post\n"
     ]
    }
   ],
   "source": [
    "print(\"lowest 5 hours for ask posts comments\")\n",
    "\n",
    "for avg , hr in sorted_swap[-5:]:\n",
    "    hr = str(hr)\n",
    "    hr = dt.datetime.strptime(hr , \"%H\").strftime(\"%H:%M\")\n",
    "    print(\"{} :  {:.2f} average comments per post\".format(hr , avg) )"
   ]
  },
  {
   "cell_type": "markdown",
   "metadata": {},
   "source": [
    "from the result above at 09:00 am your post for Asking HN will get least comments"
   ]
  },
  {
   "cell_type": "markdown",
   "metadata": {},
   "source": [
    "\n",
    "### Conclusion\n",
    "In this project, we analyzed ask posts and show posts to determine which type of post and time receive the most comments on average. Based on our analysis, to maximize the amount of comments a post receives, we'd recommend the post be categorized as ask post and created between 15:00 and 16:00 (3:00 pm est - 4:00 pm est).\n",
    "\n",
    "However, it should be noted that the data set we analyzed excluded posts without any comments. Given that, it's more accurate to say that of the posts that received comments, ask posts received more comments on average and ask posts created between 15:00 and 16:00 (3:00 pm est - 4:00 pm est) received the most comments on average"
   ]
  }
 ],
 "metadata": {
  "kernelspec": {
   "display_name": "Python 3",
   "language": "python",
   "name": "python3"
  },
  "language_info": {
   "codemirror_mode": {
    "name": "ipython",
    "version": 3
   },
   "file_extension": ".py",
   "mimetype": "text/x-python",
   "name": "python",
   "nbconvert_exporter": "python",
   "pygments_lexer": "ipython3",
   "version": "3.7.4"
  }
 },
 "nbformat": 4,
 "nbformat_minor": 2
}
